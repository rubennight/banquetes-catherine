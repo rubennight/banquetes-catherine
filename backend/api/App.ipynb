{
 "cells": [
  {
   "cell_type": "markdown",
   "id": "67cb7b46",
   "metadata": {},
   "source": [
    "# Controlador principal de banquetes"
   ]
  },
  {
   "cell_type": "code",
   "execution_count": 4,
   "id": "fd4db2ad",
   "metadata": {},
   "outputs": [
    {
     "ename": "ModuleNotFoundError",
     "evalue": "No module named 'flask_cors'",
     "output_type": "error",
     "traceback": [
      "\u001b[1;31m---------------------------------------------------------------------------\u001b[0m",
      "\u001b[1;31mModuleNotFoundError\u001b[0m                       Traceback (most recent call last)",
      "Cell \u001b[1;32mIn[4], line 3\u001b[0m\n\u001b[0;32m      1\u001b[0m \u001b[38;5;66;03m# App.ipynb (celda 1)\u001b[39;00m\n\u001b[0;32m      2\u001b[0m \u001b[38;5;28;01mfrom\u001b[39;00m \u001b[38;5;21;01mflask\u001b[39;00m \u001b[38;5;28;01mimport\u001b[39;00m Flask\n\u001b[1;32m----> 3\u001b[0m \u001b[38;5;28;01mfrom\u001b[39;00m \u001b[38;5;21;01mflask_cors\u001b[39;00m \u001b[38;5;28;01mimport\u001b[39;00m CORS\n\u001b[0;32m      5\u001b[0m \u001b[38;5;28;01mfrom\u001b[39;00m \u001b[38;5;21;01mcontroller\u001b[39;00m\u001b[38;5;21;01m.\u001b[39;00m\u001b[38;5;21;01mUsuarioController\u001b[39;00m \u001b[38;5;28;01mimport\u001b[39;00m usuario_bp\n\u001b[0;32m      6\u001b[0m \u001b[38;5;28;01mfrom\u001b[39;00m \u001b[38;5;21;01mcontroller\u001b[39;00m\u001b[38;5;21;01m.\u001b[39;00m\u001b[38;5;21;01mCartaController\u001b[39;00m \u001b[38;5;28;01mimport\u001b[39;00m carta_controller\n",
      "\u001b[1;31mModuleNotFoundError\u001b[0m: No module named 'flask_cors'"
     ]
    }
   ],
   "source": [
    "# App.ipynb (celda 1)\n",
    "from flask import Flask\n",
    "from flask_cors import CORS\n",
    "\n",
    "from controller.UsuarioController import usuario_bp\n",
    "from controller.CartaController import carta_controller\n",
    "from controller.EventoController import evento_controller\n",
    "from controller.EmpleadoController import empleado_controller\n",
    "from controller.MenuController import menu_controller\n",
    "\n",
    "app = Flask(__name__)\n",
    "CORS(app, resources={r\"/*\": {\"origins\": \"http://localhost:5173\"}})\n",
    "\n",
    "app.register_blueprint(usuario_bp)\n",
    "app.register_blueprint(carta_controller)\n",
    "app.register_blueprint(evento_controller)\n",
    "app.register_blueprint(empleado_controller)\n",
    "app.register_blueprint(menu_controller)\n",
    "\n",
    "if __name__ == \"__main__\":\n",
    "    app.run()"
   ]
  }
 ],
 "metadata": {
  "kernelspec": {
   "display_name": "Python 3",
   "language": "python",
   "name": "python3"
  },
  "language_info": {
   "codemirror_mode": {
    "name": "ipython",
    "version": 3
   },
   "file_extension": ".py",
   "mimetype": "text/x-python",
   "name": "python",
   "nbconvert_exporter": "python",
   "pygments_lexer": "ipython3",
   "version": "3.12.5"
  }
 },
 "nbformat": 4,
 "nbformat_minor": 5
}
