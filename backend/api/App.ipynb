{
 "cells": [
  {
   "cell_type": "markdown",
   "id": "67cb7b46",
   "metadata": {},
   "source": [
    "# Controlador Principal de Banquetes"
   ]
  },
  {
   "cell_type": "code",
   "execution_count": null,
   "id": "fd4db2ad",
   "metadata": {},
   "outputs": [
    {
     "name": "stdout",
     "output_type": "stream",
     "text": [
      " * Serving Flask app '__main__'\n",
      " * Debug mode: off\n"
     ]
    },
    {
     "name": "stderr",
     "output_type": "stream",
     "text": [
      "WARNING: This is a development server. Do not use it in a production deployment. Use a production WSGI server instead.\n",
      " * Running on http://127.0.0.1:5000\n",
      "Press CTRL+C to quit\n",
      "127.0.0.1 - - [10/Jun/2025 21:35:36] \"POST /eventos/registrar HTTP/1.1\" 400 -\n",
      "127.0.0.1 - - [10/Jun/2025 21:42:34] \"POST /menus/agregar HTTP/1.1\" 200 -\n"
     ]
    }
   ],
   "source": [
    "# App.ipynb (celda 1)\n",
    "from flask import Flask\n",
    "from controller.UsuarioController import usuario_bp\n",
    "from controller.CartaController import carta_controller\n",
    "from controller.EventoController import evento_controller\n",
    "from controller.EmpleadoController import empleado_controller\n",
    "from controller.MenuController import menu_controller\n",
    "\n",
    "app = Flask(__name__)\n",
    "app.register_blueprint(usuario_bp)\n",
    "app.register_blueprint(carta_controller)\n",
    "app.register_blueprint(evento_controller)\n",
    "app.register_blueprint(empleado_controller)\n",
    "app.register_blueprint(menu_controller)\n",
    "\n",
    "if __name__ == \"__main__\":\n",
    "    app.run()"
   ]
  }
 ],
 "metadata": {
  "kernelspec": {
   "display_name": "Python 3",
   "language": "python",
   "name": "python3"
  },
  "language_info": {
   "codemirror_mode": {
    "name": "ipython",
    "version": 3
   },
   "file_extension": ".py",
   "mimetype": "text/x-python",
   "name": "python",
   "nbconvert_exporter": "python",
   "pygments_lexer": "ipython3",
   "version": "3.10.11"
  }
 },
 "nbformat": 4,
 "nbformat_minor": 5
}
