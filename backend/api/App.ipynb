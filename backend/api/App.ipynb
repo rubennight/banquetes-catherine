{
 "cells": [
  {
   "cell_type": "markdown",
   "id": "67cb7b46",
   "metadata": {},
   "source": [
    "# Controlador principal de banquetes"
   ]
  },
  {
   "cell_type": "code",
   "execution_count": 2,
   "id": "fd4db2ad",
   "metadata": {},
   "outputs": [
    {
     "ename": "ImportError",
     "evalue": "cannot import name 'PlatilloModel' from 'model.PlatilloModel' (c:\\Users\\rubis\\Documents\\Ingeniería en Software\\6to Semestre\\Base de Datos II\\Relacionables\\Proyecto Final\\banquetes-catherine\\backend\\api\\model\\PlatilloModel.py)",
     "output_type": "error",
     "traceback": [
      "\u001b[1;31m---------------------------------------------------------------------------\u001b[0m",
      "\u001b[1;31mImportError\u001b[0m                               Traceback (most recent call last)",
      "Cell \u001b[1;32mIn[2], line 10\u001b[0m\n\u001b[0;32m      8\u001b[0m \u001b[38;5;28;01mfrom\u001b[39;00m \u001b[38;5;21;01mcontroller\u001b[39;00m\u001b[38;5;21;01m.\u001b[39;00m\u001b[38;5;21;01mEmpleadoController\u001b[39;00m \u001b[38;5;28;01mimport\u001b[39;00m empleado_controller\n\u001b[0;32m      9\u001b[0m \u001b[38;5;28;01mfrom\u001b[39;00m \u001b[38;5;21;01mcontroller\u001b[39;00m\u001b[38;5;21;01m.\u001b[39;00m\u001b[38;5;21;01mMenuController\u001b[39;00m \u001b[38;5;28;01mimport\u001b[39;00m menu_controller\n\u001b[1;32m---> 10\u001b[0m \u001b[38;5;28;01mfrom\u001b[39;00m \u001b[38;5;21;01mcontroller\u001b[39;00m\u001b[38;5;21;01m.\u001b[39;00m\u001b[38;5;21;01mPlatillosController\u001b[39;00m \u001b[38;5;28;01mimport\u001b[39;00m platillo_controller\n\u001b[0;32m     12\u001b[0m app \u001b[38;5;241m=\u001b[39m Flask(\u001b[38;5;18m__name__\u001b[39m)\n\u001b[0;32m     13\u001b[0m CORS(app, resources\u001b[38;5;241m=\u001b[39m{\u001b[38;5;124mr\u001b[39m\u001b[38;5;124m\"\u001b[39m\u001b[38;5;124m/*\u001b[39m\u001b[38;5;124m\"\u001b[39m: {\u001b[38;5;124m\"\u001b[39m\u001b[38;5;124morigins\u001b[39m\u001b[38;5;124m\"\u001b[39m: \u001b[38;5;124m\"\u001b[39m\u001b[38;5;124mhttp://localhost:5173\u001b[39m\u001b[38;5;124m\"\u001b[39m}})\n",
      "File \u001b[1;32mc:\\Users\\rubis\\Documents\\Ingeniería en Software\\6to Semestre\\Base de Datos II\\Relacionables\\Proyecto Final\\banquetes-catherine\\backend\\api\\controller\\PlatillosController.py:3\u001b[0m\n\u001b[0;32m      1\u001b[0m \u001b[38;5;66;03m# controller/UsuarioController.py\u001b[39;00m\n\u001b[0;32m      2\u001b[0m \u001b[38;5;28;01mfrom\u001b[39;00m \u001b[38;5;21;01mflask\u001b[39;00m \u001b[38;5;28;01mimport\u001b[39;00m Blueprint, request, jsonify\n\u001b[1;32m----> 3\u001b[0m \u001b[38;5;28;01mfrom\u001b[39;00m \u001b[38;5;21;01mservice\u001b[39;00m\u001b[38;5;21;01m.\u001b[39;00m\u001b[38;5;21;01mPlatillosService\u001b[39;00m \u001b[38;5;28;01mimport\u001b[39;00m PlatillosService\n\u001b[0;32m      5\u001b[0m \u001b[38;5;66;03m# Crear el Blueprint para las rutas de usuario\u001b[39;00m\n\u001b[0;32m      6\u001b[0m platillo_bp \u001b[38;5;241m=\u001b[39m Blueprint(\u001b[38;5;124m\"\u001b[39m\u001b[38;5;124mplatillo_controller\u001b[39m\u001b[38;5;124m\"\u001b[39m, \u001b[38;5;18m__name__\u001b[39m, url_prefix\u001b[38;5;241m=\u001b[39m\u001b[38;5;124m\"\u001b[39m\u001b[38;5;124m/platillos\u001b[39m\u001b[38;5;124m\"\u001b[39m)\n",
      "File \u001b[1;32mc:\\Users\\rubis\\Documents\\Ingeniería en Software\\6to Semestre\\Base de Datos II\\Relacionables\\Proyecto Final\\banquetes-catherine\\backend\\api\\service\\PlatillosService.py:2\u001b[0m\n\u001b[0;32m      1\u001b[0m \u001b[38;5;28;01mfrom\u001b[39;00m \u001b[38;5;21;01mflask\u001b[39;00m \u001b[38;5;28;01mimport\u001b[39;00m jsonify\n\u001b[1;32m----> 2\u001b[0m \u001b[38;5;28;01mfrom\u001b[39;00m \u001b[38;5;21;01mmodel\u001b[39;00m\u001b[38;5;21;01m.\u001b[39;00m\u001b[38;5;21;01mPlatilloModel\u001b[39;00m \u001b[38;5;28;01mimport\u001b[39;00m PlatilloModel\n\u001b[0;32m      4\u001b[0m \u001b[38;5;28;01mclass\u001b[39;00m \u001b[38;5;21;01mPlatillosService\u001b[39;00m:\n\u001b[0;32m      6\u001b[0m     \u001b[38;5;129m@staticmethod\u001b[39m\n\u001b[0;32m      7\u001b[0m     \u001b[38;5;28;01mdef\u001b[39;00m \u001b[38;5;21mlistar_platillos\u001b[39m():\n",
      "\u001b[1;31mImportError\u001b[0m: cannot import name 'PlatilloModel' from 'model.PlatilloModel' (c:\\Users\\rubis\\Documents\\Ingeniería en Software\\6to Semestre\\Base de Datos II\\Relacionables\\Proyecto Final\\banquetes-catherine\\backend\\api\\model\\PlatilloModel.py)"
     ]
    }
   ],
   "source": [
    "# App.ipynb (celda 1)\n",
    "from flask import Flask\n",
    "from flask_cors import CORS\n",
    "\n",
    "from controller.UsuarioController import usuario_bp\n",
    "from controller.CartaController import carta_controller\n",
    "from controller.EventoController import evento_controller\n",
    "from controller.EmpleadoController import empleado_controller\n",
    "from controller.MenuController import menu_controller\n",
    "from controller.PlatillosController import platillo_controller\n",
    "\n",
    "app = Flask(__name__)\n",
    "CORS(app, resources={r\"/*\": {\"origins\": \"http://localhost:5173\"}})\n",
    "\n",
    "app.register_blueprint(usuario_bp)\n",
    "app.register_blueprint(platillo_bl)\n",
    "app.register_blueprint(carta_controller)\n",
    "app.register_blueprint(evento_controller)\n",
    "app.register_blueprint(empleado_controller)\n",
    "app.register_blueprint(menu_controller)\n",
    "\n",
    "if __name__ == \"__main__\":\n",
    "    app.run()"
   ]
  }
 ],
 "metadata": {
  "kernelspec": {
   "display_name": "Python 3",
   "language": "python",
   "name": "python3"
  },
  "language_info": {
   "codemirror_mode": {
    "name": "ipython",
    "version": 3
   },
   "file_extension": ".py",
   "mimetype": "text/x-python",
   "name": "python",
   "nbconvert_exporter": "python",
   "pygments_lexer": "ipython3",
   "version": "3.12.5"
  }
 },
 "nbformat": 4,
 "nbformat_minor": 5
}
