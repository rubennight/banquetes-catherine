{
 "cells": [
  {
   "cell_type": "markdown",
   "id": "67cb7b46",
   "metadata": {},
   "source": [
    "# Controlador principal de banquetes"
   ]
  },
  {
   "cell_type": "code",
   "execution_count": null,
   "id": "fd4db2ad",
   "metadata": {},
   "outputs": [],
   "source": [
    "# App.ipynb (celda 1)\n",
    "from flask import Flask\n",
    "from controller.UsuarioController import usuario_bp\n",
    "from controller.CartaController import carta_controller\n",
    "from controller.EventoController import evento_controller\n",
    "from controller.EmpleadoController import empleado_controller\n",
    "from controller.MenuController import menu_controller\n",
    "from controller.EmpleadocrearController import empleado_crear_controller\n",
    "\n",
    "\n",
    "app = Flask(__name__)\n",
    "app.register_blueprint(usuario_bp)\n",
    "app.register_blueprint(carta_controller)\n",
    "app.register_blueprint(evento_controller)\n",
    "app.register_blueprint(empleado_controller)\n",
    "app.register_blueprint(menu_controller)\n",
    "app.register_blueprint(empleado_crear_controller)\n",
    "\n",
    "\n",
    "if __name__ == \"__main__\":\n",
    "    app.run()"
   ]
  }
 ],
 "metadata": {
  "kernelspec": {
   "display_name": "Python 3",
   "language": "python",
   "name": "python3"
  },
  "language_info": {
   "codemirror_mode": {
    "name": "ipython",
    "version": 3
   },
   "file_extension": ".py",
   "mimetype": "text/x-python",
   "name": "python",
   "nbconvert_exporter": "python",
   "pygments_lexer": "ipython3",
   "version": "3.13.2"
  }
 },
 "nbformat": 4,
 "nbformat_minor": 5
}
