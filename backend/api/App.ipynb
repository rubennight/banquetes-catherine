{
 "cells": [
  {
   "cell_type": "markdown",
   "id": "67cb7b46",
   "metadata": {},
   "source": [
    "# Controlador Principal de Banquetes"
   ]
  },
  {
   "cell_type": "code",
   "execution_count": null,
   "id": "fd4db2ad",
   "metadata": {},
   "outputs": [],
   "source": [
    "# App.ipynb (celda 1)\n",
    "from flask import Flask\n",
    "from controller.UsuarioController import usuario_bp\n",
    "\n",
    "app = Flask(__name__)\n",
    "app.register_blueprint(usuario_bp)\n",
    "\n",
    "if __name__ == \"__main__\":\n",
    "    app.run()"
   ]
  }
 ],
 "metadata": {
  "kernelspec": {
   "display_name": "Python 3",
   "language": "python",
   "name": "python3"
  },
  "language_info": {
   "codemirror_mode": {
    "name": "ipython",
    "version": 3
   },
   "file_extension": ".py",
   "mimetype": "text/x-python",
   "name": "python",
   "nbconvert_exporter": "python",
   "pygments_lexer": "ipython3",
   "version": "3.12.5"
  }
 },
 "nbformat": 4,
 "nbformat_minor": 5
}
