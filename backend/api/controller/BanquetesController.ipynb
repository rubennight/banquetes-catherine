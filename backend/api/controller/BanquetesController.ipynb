{
 "cells": [
  {
   "cell_type": "code",
   "execution_count": null,
   "id": "85c7e8d8",
   "metadata": {},
   "outputs": [
    {
     "name": "stdout",
     "output_type": "stream",
     "text": [
      " * Serving Flask app '__main__'\n",
      " * Debug mode: off\n"
     ]
    },
    {
     "name": "stderr",
     "output_type": "stream",
     "text": [
      "WARNING: This is a development server. Do not use it in a production deployment. Use a production WSGI server instead.\n",
      " * Running on http://127.0.0.1:5000\n",
      "Press CTRL+C to quit\n"
     ]
    }
   ],
   "source": [
    "from flask import Flask, request, render_template, redirect\n",
    "from pymongo import MongoClient\n",
    "\n",
    "app = Flask(__name__)\n",
    "\n",
    "client = MongoClient(\"mongodb://localhost:27017\");\n",
    "db = client[\"usuarios_db\"]\n",
    "coleccion = db[\"usuarios\"]\n",
    "\n",
    "@app.route(\"/\")\n",
    "\n",
    "@app.route(\"/registrar\", methods=[\"POST\"])\n",
    "def registrar():\n",
    "    nombre = request.form[\"nombre\"]\n",
    "    edad = int(request.form[\"edad\"])\n",
    "    telefono = request.form[\"telefono\"]\n",
    "    correo = request.form[\"correo\"]\n",
    "    \n",
    "\n",
    "    direccion = {\n",
    "        \"calle\": request.form[\"calle\"],\n",
    "        \"ciudad\": request.form[\"ciudad\"],\n",
    "        \"codigo_postal\": request.form[\"codigo_postal\"]\n",
    "\n",
    "    }\n",
    "\n",
    "    coleccion.insert_one(\n",
    "        {\n",
    "            \"nombre\": nombre,\n",
    "            \"edad\": edad,\n",
    "            \"telefono\": telefono,\n",
    "            \"correo\": correo,\n",
    "            \"direccion\": direccion\n",
    "        }   \n",
    "    )\n",
    "\n",
    "    return redirect(\"/\")\n",
    "\n",
    "\n",
    "if __name__ == '__main__':\n",
    "    app.run()\n",
    " "
   ]
  }
 ],
 "metadata": {
  "kernelspec": {
   "display_name": "Python 3",
   "language": "python",
   "name": "python3"
  },
  "language_info": {
   "codemirror_mode": {
    "name": "ipython",
    "version": 3
   },
   "file_extension": ".py",
   "mimetype": "text/x-python",
   "name": "python",
   "nbconvert_exporter": "python",
   "pygments_lexer": "ipython3",
   "version": "3.12.5"
  }
 },
 "nbformat": 4,
 "nbformat_minor": 5
}
